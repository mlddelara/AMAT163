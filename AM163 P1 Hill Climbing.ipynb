{
 "cells": [
  {
   "cell_type": "code",
   "execution_count": 11,
   "id": "a89cd3de",
   "metadata": {},
   "outputs": [],
   "source": [
    "# \n",
    "#Create a Travelling salesman problem\n",
    "#\n",
    "\n",
    "import random\n",
    "\n",
    "tsp = [\n",
    "    [0, 1559, 921, 1334],\n",
    "    [1159, 0, 809, 1397],\n",
    "    [921, 809, 0, 921],\n",
    "    [1334, 1397, 921, 0]\n",
    "]"
   ]
  },
  {
   "cell_type": "code",
   "execution_count": 12,
   "id": "b6ce3e52",
   "metadata": {},
   "outputs": [],
   "source": [
    "#\n",
    "# Random solution generator\n",
    "#\n",
    "\n",
    "def randomSolution(tsp):\n",
    "    cities = list(range(len(tsp)))\n",
    "    print(cities)\n",
    "    solution = []\n",
    "\n",
    "    for i in range(len(tsp)):\n",
    "        randomCity = cities[random.randint(0, len(cities) - 1)]\n",
    "        solution.append(randomCity)\n",
    "        cities.remove(randomCity)\n",
    "\n",
    "    return solution\n"
   ]
  },
  {
   "cell_type": "code",
   "execution_count": 13,
   "id": "0916d2c9",
   "metadata": {},
   "outputs": [],
   "source": [
    "#\n",
    "# Function that calculates the length of a route\n",
    "#\n",
    "\n",
    "def routeLength(tsp, solution):\n",
    "    routeLength = 0\n",
    "    for i in range(len(solution)):\n",
    "        routeLength += tsp[solution[i - 1]][solution[i]]\n",
    "    return routeLength"
   ]
  },
  {
   "cell_type": "code",
   "execution_count": 14,
   "id": "00d44981",
   "metadata": {},
   "outputs": [],
   "source": [
    "# \n",
    "# Function that generates all neighbours of a solution\n",
    "#\n",
    "\n",
    "def getNeighbours(solution):\n",
    "    neighbours = []\n",
    "    for i in range(len(solution)):\n",
    "        for j in range(i + 1, len(solution)):\n",
    "            neighbour = solution.copy()\n",
    "            neighbour[i] = solution[j]\n",
    "            neighbour[j] = solution[i]\n",
    "            neighbours.append(neighbour)\n",
    "    return neighbours\n",
    "        "
   ]
  },
  {
   "cell_type": "code",
   "execution_count": 15,
   "id": "b22577d7",
   "metadata": {},
   "outputs": [],
   "source": [
    "# \n",
    "# Function that finds the best neighbour\n",
    "#\n",
    "\n",
    "def getBestNeighbour(tsp, neighbours):\n",
    "    bestRouteLength = routeLength(tsp, neighbours[0])\n",
    "    bestNeighbour = neighbours[0]\n",
    "    for neighbour in neighbours:\n",
    "        currentRouteLength = routeLength(tsp, neighbour)\n",
    "        if currentRouteLength < bestRouteLength:\n",
    "            bestRouteLength = currentRouteLength\n",
    "            bestNeighbour = neighbour\n",
    "    return bestNeighbour, bestRouteLength\n"
   ]
  },
  {
   "cell_type": "code",
   "execution_count": 16,
   "id": "04e71f5b",
   "metadata": {},
   "outputs": [],
   "source": [
    "#\n",
    "# Hill climbing algorithm\n",
    "# \n",
    "\n",
    "def hillClimbing(tsp):\n",
    "    currentSolution = randomSolution(tsp)\n",
    "    currentRouteLength = routeLength(tsp, currentSolution)\n",
    "    neighbours = getNeighbours(currentSolution)\n",
    "    bestNeighbour, bestNeighbourRouteLength = getBestNeighbour(tsp, neighbours)\n",
    "\n",
    "    while bestNeighbourRouteLength < currentRouteLength:\n",
    "        currentSolution = bestNeighbour\n",
    "        currentRouteLength = bestNeighbourRouteLength\n",
    "        neighbours = getNeighbours(currentSolution)\n",
    "        bestNeighbour, bestNeighbourRouteLength = getBestNeighbour(tsp, neighbours)\n",
    "\n",
    "    return currentSolution, currentRouteLength\n"
   ]
  },
  {
   "cell_type": "code",
   "execution_count": 17,
   "id": "68f087f5",
   "metadata": {},
   "outputs": [
    {
     "name": "stdout",
     "output_type": "stream",
     "text": [
      "Given: [[0, 1559, 921, 1334], [1159, 0, 809, 1397], [921, 809, 0, 921], [1334, 1397, 921, 0]]\n",
      "[0, 1, 2, 3]\n",
      "The solution using HCA is ([2, 1, 0, 3], 4223)\n",
      "Alternatively\n",
      "[0, 1, 2, 3]\n",
      "([2, 1, 0, 3], 1400)\n"
     ]
    }
   ],
   "source": [
    "print('Given:', tsp)\n",
    "print('The solution using HCA is',hillClimbing(tsp))\n",
    "print('Alternatively')\n",
    "\n",
    "#Alternatively\n",
    "def main():\n",
    "    tsp = [\n",
    "        [0, 400, 500, 300],\n",
    "        [400, 0, 300, 500],\n",
    "        [500, 300, 0, 400],\n",
    "        [300, 500, 400, 0]\n",
    "    ]\n",
    "\n",
    "    print(hillClimbing(tsp))\n",
    "\n",
    "if __name__ == \"__main__\":\n",
    "    main()"
   ]
  },
  {
   "cell_type": "code",
   "execution_count": 18,
   "id": "493bbbcd",
   "metadata": {},
   "outputs": [
    {
     "data": {
      "text/plain": [
       "[[0, 585, 578, 370, 58, 189, 593, 742, 272, 394],\n",
       " [585, 0, 797, 810, 90, 940, 186, 651, 583, 557],\n",
       " [578, 797, 0, 547, 968, 752, 12, 350, 36, 924],\n",
       " [370, 810, 547, 0, 28, 979, 294, 479, 787, 357],\n",
       " [58, 90, 968, 28, 0, 536, 155, 958, 172, 538],\n",
       " [189, 940, 752, 979, 536, 0, 982, 409, 271, 221],\n",
       " [593, 186, 12, 294, 155, 982, 0, 669, 459, 626],\n",
       " [742, 651, 350, 479, 958, 409, 669, 0, 173, 325],\n",
       " [272, 583, 36, 787, 172, 271, 459, 173, 0, 861],\n",
       " [394, 557, 924, 357, 538, 221, 626, 325, 861, 0]]"
      ]
     },
     "execution_count": 18,
     "metadata": {},
     "output_type": "execute_result"
    }
   ],
   "source": [
    "#\n",
    "# Problem generator\n",
    "# \n",
    "\n",
    "def problemGenerator(nCities):\n",
    "    tsp = []\n",
    "    for i in range(nCities):\n",
    "        distances = []\n",
    "        for j in range(nCities):\n",
    "            if j == i:\n",
    "                distances.append(0)\n",
    "            elif j < i:\n",
    "                distances.append(tsp[j][i])\n",
    "            else:\n",
    "                distances.append(random.randint(10, 1000))\n",
    "        tsp.append(distances)\n",
    "    return tsp\n",
    "tsp = problemGenerator(10)\n",
    "tsp"
   ]
  },
  {
   "cell_type": "code",
   "execution_count": 19,
   "id": "19f3237d",
   "metadata": {},
   "outputs": [
    {
     "name": "stdout",
     "output_type": "stream",
     "text": [
      "[0, 1, 2, 3, 4, 5, 6, 7, 8, 9]\n",
      "([5, 8, 4, 0, 7, 9, 6, 1, 3, 2], 1938)\n"
     ]
    }
   ],
   "source": [
    "def main():\n",
    "    tsp = problemGenerator(10)\n",
    "    #print(tsp)\n",
    "    #for i in range(10):\n",
    "        #print(hillClimbing(tsp))\n",
    "    print(hillClimbing(tsp))\n",
    "\n",
    "if __name__ == \"__main__\":\n",
    "    main()\n",
    "        "
   ]
  },
  {
   "cell_type": "code",
   "execution_count": 20,
   "id": "b92daaec",
   "metadata": {},
   "outputs": [
    {
     "name": "stdout",
     "output_type": "stream",
     "text": [
      "[0, 1, 2, 3]\n",
      "([1, 2, 3, 0], 1400)\n"
     ]
    }
   ],
   "source": [
    "def main():\n",
    "    tsp = [\n",
    "        [0, 400, 500, 300],\n",
    "        [400, 0, 300, 500],\n",
    "        [500, 300, 0, 400],\n",
    "        [300, 500, 400, 0]\n",
    "    ]\n",
    "\n",
    "    print(hillClimbing(tsp))\n",
    "\n",
    "if __name__ == \"__main__\":\n",
    "    main()"
   ]
  },
  {
   "cell_type": "code",
   "execution_count": 21,
   "id": "890ae023",
   "metadata": {},
   "outputs": [
    {
     "name": "stdout",
     "output_type": "stream",
     "text": [
      "[0, 1, 2, 3]\n",
      "([2, 1, 0, 3], 4223)\n"
     ]
    }
   ],
   "source": [
    "def main():\n",
    "    tsp = [\n",
    "    [0, 1559, 921, 1334],\n",
    "    [1159, 0, 809, 1397],\n",
    "    [921, 809, 0, 921],\n",
    "    [1334, 1397, 921, 0]\n",
    "]\n",
    "\n",
    "    print(hillClimbing(tsp))\n",
    "\n",
    "if __name__ == \"__main__\":\n",
    "    main()"
   ]
  },
  {
   "cell_type": "code",
   "execution_count": null,
   "id": "0c043206",
   "metadata": {},
   "outputs": [],
   "source": []
  }
 ],
 "metadata": {
  "kernelspec": {
   "display_name": "Python 3",
   "language": "python",
   "name": "python3"
  },
  "language_info": {
   "codemirror_mode": {
    "name": "ipython",
    "version": 3
   },
   "file_extension": ".py",
   "mimetype": "text/x-python",
   "name": "python",
   "nbconvert_exporter": "python",
   "pygments_lexer": "ipython3",
   "version": "3.8.8"
  }
 },
 "nbformat": 4,
 "nbformat_minor": 5
}
